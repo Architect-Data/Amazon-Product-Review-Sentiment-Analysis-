{
 "cells": [
  {
   "cell_type": "markdown",
   "metadata": {},
   "source": [
    "##### **Amazon Product Review Sentiment Analysis - Video Games Sector** #####"
   ]
  },
  {
   "cell_type": "markdown",
   "metadata": {},
   "source": [
    "This notebook uses dataset from Amazon Review Data - video games (2018) : https://cseweb.ucsd.edu/~jmcauley/datasets/amazon_v2/ 'small' subsets of video games 5-core. "
   ]
  },
  {
   "cell_type": "code",
   "execution_count": 4,
   "metadata": {},
   "outputs": [
    {
     "name": "stdout",
     "output_type": "stream",
     "text": [
      "Requirement already satisfied: textblob in /Users/j_j/anaconda3/lib/python3.11/site-packages (0.17.1)\n",
      "Requirement already satisfied: nltk>=3.1 in /Users/j_j/anaconda3/lib/python3.11/site-packages (from textblob) (3.8.1)\n",
      "Requirement already satisfied: click in /Users/j_j/anaconda3/lib/python3.11/site-packages (from nltk>=3.1->textblob) (8.0.4)\n",
      "Requirement already satisfied: joblib in /Users/j_j/anaconda3/lib/python3.11/site-packages (from nltk>=3.1->textblob) (1.2.0)\n",
      "Requirement already satisfied: regex>=2021.8.3 in /Users/j_j/anaconda3/lib/python3.11/site-packages (from nltk>=3.1->textblob) (2022.7.9)\n",
      "Requirement already satisfied: tqdm in /Users/j_j/anaconda3/lib/python3.11/site-packages (from nltk>=3.1->textblob) (4.65.0)\n",
      "\n",
      "\u001b[1m[\u001b[0m\u001b[34;49mnotice\u001b[0m\u001b[1;39;49m]\u001b[0m\u001b[39;49m A new release of pip is available: \u001b[0m\u001b[31;49m23.3.1\u001b[0m\u001b[39;49m -> \u001b[0m\u001b[32;49m23.3.2\u001b[0m\n",
      "\u001b[1m[\u001b[0m\u001b[34;49mnotice\u001b[0m\u001b[1;39;49m]\u001b[0m\u001b[39;49m To update, run: \u001b[0m\u001b[32;49mpip install --upgrade pip\u001b[0m\n"
     ]
    }
   ],
   "source": [
    "!pip install textblob"
   ]
  },
  {
   "cell_type": "code",
   "execution_count": 3,
   "metadata": {},
   "outputs": [
    {
     "name": "stderr",
     "output_type": "stream",
     "text": [
      "[nltk_data] Downloading package punkt to /Users/j_j/nltk_data...\n",
      "[nltk_data]   Package punkt is already up-to-date!\n",
      "[nltk_data] Downloading package stopwords to /Users/j_j/nltk_data...\n",
      "[nltk_data]   Package stopwords is already up-to-date!\n"
     ]
    }
   ],
   "source": [
    "#Import Libraries\n",
    "#Data manipulation / visual libraries\n",
    "import pandas as pd\n",
    "import matplotlib.pyplot as plt\n",
    "from sklearn.metrics import classification_report\n",
    "from autogluon.tabular import TabularPredictor\n",
    "\n",
    "#Text processing libraries\n",
    "import re\n",
    "import nltk\n",
    "from nltk.corpus import stopwords\n",
    "from nltk.tokenize import word_tokenize\n",
    "from textblob import TextBlob  \n",
    "\n",
    "# Download NLTK stopwords\n",
    "nltk.download('punkt')\n",
    "nltk.download('stopwords')\n",
    "\n",
    "#Train and Split Libraries\n",
    "from sklearn.model_selection import train_test_split"
   ]
  },
  {
   "cell_type": "code",
   "execution_count": 7,
   "metadata": {},
   "outputs": [],
   "source": [
    "#Json file dataset - Amazon Video Games\n",
    "df = pd.read_json('Video_Games.json', lines = True)\n"
   ]
  },
  {
   "cell_type": "code",
   "execution_count": 3,
   "metadata": {},
   "outputs": [
    {
     "name": "stdout",
     "output_type": "stream",
     "text": [
      "   overall  verified   reviewTime      reviewerID        asin  \\\n",
      "0        5      True  10 17, 2015  A1HP7NVNPFMA4N  0700026657   \n",
      "1        4     False  07 27, 2015  A1JGAP0185YJI6  0700026657   \n",
      "2        3      True  02 23, 2015  A1YJWEXHQBWK2B  0700026657   \n",
      "3        2      True  02 20, 2015  A2204E1TH211HT  0700026657   \n",
      "4        5      True  12 25, 2014  A2RF5B5H74JLPE  0700026657   \n",
      "\n",
      "        reviewerName                                         reviewText  \\\n",
      "0        Ambrosia075  This game is a bit hard to get the hang of, bu...   \n",
      "1             travis  I played it a while but it was alright. The st...   \n",
      "2  Vincent G. Mezera                                           ok game.   \n",
      "3         Grandma KR  found the game a bit too complicated, not what...   \n",
      "4                jon  great game, I love it and have played it since...   \n",
      "\n",
      "                                       summary  unixReviewTime vote style  \\\n",
      "0                  but when you do it's great.      1445040000  NaN   NaN   \n",
      "1  But in spite of that it was fun, I liked it      1437955200  NaN   NaN   \n",
      "2                                  Three Stars      1424649600  NaN   NaN   \n",
      "3                                    Two Stars      1424390400  NaN   NaN   \n",
      "4                               love this game      1419465600  NaN   NaN   \n",
      "\n",
      "  image  \n",
      "0   NaN  \n",
      "1   NaN  \n",
      "2   NaN  \n",
      "3   NaN  \n",
      "4   NaN  \n"
     ]
    }
   ],
   "source": [
    "#Overview of the data\n",
    "print(df.head())"
   ]
  },
  {
   "cell_type": "code",
   "execution_count": 8,
   "metadata": {},
   "outputs": [
    {
     "name": "stdout",
     "output_type": "stream",
     "text": [
      "<class 'pandas.core.frame.DataFrame'>\n",
      "RangeIndex: 497577 entries, 0 to 497576\n",
      "Data columns (total 12 columns):\n",
      " #   Column          Non-Null Count   Dtype \n",
      "---  ------          --------------   ----- \n",
      " 0   overall         497577 non-null  int64 \n",
      " 1   verified        497577 non-null  bool  \n",
      " 2   reviewTime      497577 non-null  object\n",
      " 3   reviewerID      497577 non-null  object\n",
      " 4   asin            497577 non-null  object\n",
      " 5   reviewerName    497501 non-null  object\n",
      " 6   reviewText      497419 non-null  object\n",
      " 7   summary         497468 non-null  object\n",
      " 8   unixReviewTime  497577 non-null  int64 \n",
      " 9   vote            107793 non-null  object\n",
      " 10  style           289237 non-null  object\n",
      " 11  image           3634 non-null    object\n",
      "dtypes: bool(1), int64(2), object(9)\n",
      "memory usage: 42.2+ MB\n",
      "None\n"
     ]
    }
   ],
   "source": [
    "#Data info \n",
    "print(df.info())"
   ]
  },
  {
   "cell_type": "markdown",
   "metadata": {},
   "source": [
    "Roughly, over 497,000 entries with a combination of int, string and boolean data types. "
   ]
  },
  {
   "cell_type": "code",
   "execution_count": 9,
   "metadata": {},
   "outputs": [
    {
     "data": {
      "text/plain": [
       "Index(['overall', 'verified', 'reviewTime', 'reviewerID', 'asin',\n",
       "       'reviewerName', 'reviewText', 'summary', 'unixReviewTime', 'vote',\n",
       "       'style', 'image'],\n",
       "      dtype='object')"
      ]
     },
     "execution_count": 9,
     "metadata": {},
     "output_type": "execute_result"
    }
   ],
   "source": [
    "#Column Names\n",
    "df.columns"
   ]
  },
  {
   "cell_type": "markdown",
   "metadata": {},
   "source": [
    "Dataset inclues overall (rating), verified, reviewtime, reviewerId, asin, reviwername, reviewtext, summary, unixreviewtime, vote, style and image."
   ]
  },
  {
   "cell_type": "code",
   "execution_count": 10,
   "metadata": {},
   "outputs": [
    {
     "name": "stdout",
     "output_type": "stream",
     "text": [
      "count    497577.000000\n",
      "mean          4.220456\n",
      "std           1.185424\n",
      "min           1.000000\n",
      "25%           4.000000\n",
      "50%           5.000000\n",
      "75%           5.000000\n",
      "max           5.000000\n",
      "Name: overall, dtype: float64\n"
     ]
    }
   ],
   "source": [
    "print(df['overall'].describe())"
   ]
  },
  {
   "cell_type": "markdown",
   "metadata": {},
   "source": [
    "The above is a statistics for rating in a scale from 1 to 5. On average, the rating scored at 4.22, showing a general positive sentiment on reviews. Considering 25% percentile at 4.0 and 75% at 5.0, the review is generally positive."
   ]
  },
  {
   "cell_type": "code",
   "execution_count": 11,
   "metadata": {},
   "outputs": [
    {
     "data": {
      "image/png": "[encoded data removed]",
      "text/plain": [
       "<Figure size 640x480 with 1 Axes>"
      ]
     },
     "metadata": {},
     "output_type": "display_data"
    }
   ],
   "source": [
    "df['overall'].value_counts().sort_index().plot(kind='bar')\n",
    "plt.title('Distribution of Ratings')\n",
    "plt.xlabel('Ratings')\n",
    "plt.ylabel('Frequency')\n",
    "plt.show()"
   ]
  },
  {
   "cell_type": "code",
   "execution_count": 12,
   "metadata": {},
   "outputs": [
    {
     "data": {
      "text/plain": [
       "overall                0\n",
       "verified               0\n",
       "reviewTime             0\n",
       "reviewerID             0\n",
       "asin                   0\n",
       "reviewerName          76\n",
       "reviewText           158\n",
       "summary              109\n",
       "unixReviewTime         0\n",
       "vote              389784\n",
       "style             208340\n",
       "image             493943\n",
       "dtype: int64"
      ]
     },
     "execution_count": 12,
     "metadata": {},
     "output_type": "execute_result"
    }
   ],
   "source": [
    "#Checking for null values\n",
    "df.isnull().sum()"
   ]
  },
  {
   "cell_type": "markdown",
   "metadata": {},
   "source": [
    "The data contains a lot of missing values so we'll be preprocessing them before use."
   ]
  },
  {
   "cell_type": "code",
   "execution_count": 13,
   "metadata": {},
   "outputs": [
    {
     "name": "stdout",
     "output_type": "stream",
     "text": [
      "overall\n",
      "5    299759\n",
      "4     93654\n",
      "3     49146\n",
      "1     30883\n",
      "2     24135\n",
      "Name: count, dtype: int64\n"
     ]
    }
   ],
   "source": [
    "#Counting the overall columns\n",
    "print(df['overall'].value_counts())"
   ]
  },
  {
   "cell_type": "code",
   "execution_count": 14,
   "metadata": {},
   "outputs": [
    {
     "name": "stdout",
     "output_type": "stream",
     "text": [
      "count    497577.000000\n",
      "mean        670.075799\n",
      "std        1265.977511\n",
      "min           0.000000\n",
      "25%          57.000000\n",
      "50%         210.000000\n",
      "75%         710.000000\n",
      "max       32721.000000\n",
      "Name: review_length, dtype: float64\n"
     ]
    }
   ],
   "source": [
    "#replacing nan values with an empty string.\n",
    "#calculating for length of the texts\n",
    "df['reviewText'] = df['reviewText'].fillna('')\n",
    "df['review_length'] = df['reviewText'].apply(len)\n",
    "\n",
    "#descriptive statistics for review length\n",
    "print(df['review_length'].describe())\n"
   ]
  },
  {
   "cell_type": "code",
   "execution_count": 15,
   "metadata": {},
   "outputs": [
    {
     "name": "stdout",
     "output_type": "stream",
     "text": [
      "I have to say PS3 is by far the best console ever created, I don't even know how people even consider having a Xbox, Wii I can understand, but PS3's 1080P resolution on a big screen Sony HD TV is unbeatable. I'm saying these things because this is a must have game for your PS3. This game looks very pretty, the images and colors are gorgeous and it really makes you appreciate your console.\n",
      "\n",
      "I love fighting games and I have to say most fighting games are best played with the D-Pad as opposed of the analog joystick. For example with Super Street Fighter IV Arcade Edition it is so hard to play with the joystick. This one is the other way around. I have been playing fighting games with the D-Pad since the 90s, and other than Tekken 5 Dark Resurrection I never thought I would love playing a game with the joystick, KOF XIII responds so well to the joystick that it becomes addictive. Even better is having an arcade stick controller to have the full game experience.\n",
      "\n",
      "Another great thing about this game are all the characters, they truly have picked the best characters from the wide range of awesome SNK fighting games, this game has absolutely the best ones, plus they all look awesome and very well drawn. The customization of colors is really good, but just the original look  of them is great. Except for Terry Bougard, for some reason they blow him way too much out of proportion, a leaner Terry Bougard was way cooler back in the day, but other than that, they are all cool, specially K' who is always the coolest.\n",
      "\n",
      "Overall the game feels very complete, which is always a great thing, it has everything you wish from a fighting game, unlockables for playing the game (a nice high-def zoom-in gallery), story mode, arcade mode, practice mode, tutorial, versus mode (to enjoy fighting with your buddies), customizations, online mode, and even missions.\n",
      "\n",
      "The difficulty settings are perfect, it is very rare to find a game with accurate well thought out difficulty settings that actually respond well to your playing. That's something they did good in the previous one, I was afraid this one was going to be different, but it wasn't, this one is just as good, the playing has a great feel and it is not unrealistic at all, in fact it is just right, very hard is supposed to be very hard not impossible, other games fail in that, this one doesn't, they did a good job on that.\n",
      "\n",
      "Under missions there is an option where you can fight with all the characters until you run out of health, one fight at the time with one guy, like an endurance type of thing called survival. This is by far my favorite part of the game, in fact they could take everything away (except the versus mode of course) and just keep this section, and the game will still be awesome. In fact now I wish every single fighting game had this endurance thing, the difficulty settings are well done for it as well.\n",
      "\n",
      "I honestly don't understand the story, but I have to say that the dialogues (which are a complete different thing) are very smart in the sense that they are simple and very innocent, without having the need to follow any storyline, they are better than the street fighter ones, the street fighter ones are too short and lose sense because of that, these ones on the other hand, and the game in general, give you the real feel of an anime cartoon.\n",
      "\n",
      "5 stars, SNK never disappoints.\n",
      "------\n",
      "I don't mind the exclusion of a campaign, even if these are what the series is known for, but it is still unfortunate due to the quality of the sole such co-op mission after the string of alibi tutorials. The sequel will certainly have one and this sub-series should be renamed to S.W.A.T. due to the similar nature of this game to that dead franchise. The multiplayer mode is pretty fascinating and the unique gameplay is rock solid but the lack of content and customization is noticeable. The game thus feels somewhat uncompleted for a full price game yet i will come back for the sequel and will stick around longer if it will feature more content.\n",
      "------\n",
      "This is easily my favorite Mario Kart game in the series.  The visuals and frame rate are top notch and character reactions are humorous.  Online play and unlockable mods add high replay value.  The controls are smooth and the music is great.  In-game items have changed a bit for the better.\n",
      "\n",
      "I highly recommend this title for any Wii U owner.  If you don't own a Wii U, this game is a reason to purchase one.\n",
      "------\n",
      "I bought this for cheap as a fan of Sega's work, though I wasn't expecting much since it leans so much on movement and motion, which can get very tiresome, and it does, but that doesn't make Rise of Nightmares a bad game. Actually, quite the contrary, because Rise of Nightmares shows how Kinect can offer a meaty single player game and not just little mini-game collections. While Kinect has some fantastic games like The Gunstringer and Fruit Ninja Kinect, in addition to the upcoming Crimson Dragon from the creators of Panzer Dragoon, I think Rise of Nightmares is good proof that a game like this can work with motion controls. Similar to Haunt (another solid Kinect game, now available on Xbox Live Arcade) but with more depth, Rise of Kinect offers full 3D movement and lots of weapon and environmental interaction. With a fun and campy story, solid gameplay, some pretty good graphics, and some good ol' horror, I think Rise of Nightmares is a great game for fans of House of the Dead. My one and only complaint is that you can get a little sore playing it for extended lengths.\n",
      "------\n",
      "This is a decent enough headset if you are considering serious online gaming. You will notice that the ear hook is twisted a bit sideways when you first open it. This is intentional and there to keep the headset in place most likely.\n",
      "\n",
      "Two minor flaws I saw were 1) this only fits your right ear (I just don't understand this choice of design), and 2) if you ever consider using it with your phone, you will need a third party app like BTMono if you want to listen to music.\n",
      "\n",
      "All in all, a great headset for your PS3.\n",
      "------\n",
      "Most of the pros and cons have been discussed elsewhere. I noticed, even with the patch, the problems of frame stuttering increased the further into the game I went, culminating in crashes that never took place in the beginning. That issue would be enough for me to rate it as just one star but...\n",
      "\n",
      "The game makers have done a brilliant job of establishing the atmosphere, using sound and visuals to make the area an alien environment. In this regard, it is at least as good as HL2 and, in some ways, better.\n",
      "\n",
      "The attempt to bring RPG elements into a FPS, though limited, are successful. Instead of skill points, you work with anomalies to increase your abilities, upgrade your equipment, and improve your weapons. More could have been done with this aspect of the game but its a nice addition. Like RPGs, the game permits wandering through a level, as opposed to following a tightly constrained path. Thus you can do some exploring just to take in the sights.\n",
      "\n",
      "The use of factions leaves you pondering who, if anyone, to join, but more should have been done with this. Joining a faction ought to unlock more and varied missions. (Btw, recovering the lost rifle of the drunk Duty member is accomplished by taking it off the body of one of the people you encounter and kill.)\n",
      "\n",
      "I've had no problem killing enemies with headshots but they do become better armored the further you go into the game and that includes helmets.  Grenades (not the tiny ones) are excellent and the Tunder with its grenade launcher can settle a lot of personal issues pretty abruptly ;) For sniping, there are some incongruities - the heaviest hitter appears to be a >silenced< rifle (it ought to have less power for the same caliber). On the other hand, careful use of ammunition for the same weapon makes a difference (standard rounds while walking around the countryside to deal with blind dogs, etc.; armor piercing for dealing with humans) and might be the root of some folks' problems with one shot-one kill situations. Avoid full automatic fire as almost all rounds other than the first will be into the air, particularly with the AK series, unless you are face to face.\n",
      "\n",
      "The use of the Russian language adds atmosphere but subtitles would have been nice with an option to turn them on and off after you've heard the entire loop.\n",
      "\n",
      "I like the AI - enemies will flank you, take cover when fired on (or their teammates are). They won't use grenades, though, even when equipped with them. They are affected by being hit, rather than proceeding as if nothing has happened. Their snipers are good and will have you carefully scanning an area before entering it. On the other hand, you begin to count on encountering them in the same places, which is unfortunate. Roaming bands of neutrals and bandits appear, though they seem to follow the same paths.  Considering the locale, there ought to be roaming army, Duty, and Freedom patrols that the player encounters and has to deal with.\n",
      "\n",
      "If you are a FPS fan, than this is definitely one for your collection.\n",
      "------\n",
      "Does what it says, holds up the system just fine.\n",
      "------\n",
      "This is an excellent Gamecube style classic controller that feels fantastic. It works with all of the virtual console games for the Wii and games on the Wii U as well. In my opinion it beats out the Wii u pro controller and the game pad in terms of comfort and functionality. For those who grew up on the game cube controller, besides it feeling slightly lighter and the buttons seem a little clicky but after a couple of minutes it feels like home.\n",
      "------\n",
      "BAD!\n",
      "------\n",
      "We love playing this game as a family. It provides tons of entertainment in a small package. I love the fact that it comes with a Wii wheel and is an easy-to-learn game. Just insert disc and start playing, no skill necessary. One word of caution - The inflatable cars that are sold as an addition to Wii racing games don't work at all. That is the whole reason we bought this game was to sit in those cars and race but unfortunately, playing the game is nearly impossible with those things. I'm glad that the game is fun in itself with regular racing wheels though.\n",
      "------\n",
      "Pac-Man Collection is a compilation of four incredibly awesome Pac-Man games. The games are:\n",
      "\n",
      "Pac-Man: Play the original arcade hit that started it all! You should know what this classic is like by now.\n",
      "\n",
      "Pac-Mania: A fake 3D take on the original, in which there are new mazes and worlds.\n",
      "\n",
      "Pac-Attack: A cool spin off of Tetris. Every 3 blocks Pac-Man drops, and then he would eat any ghost in his path.\n",
      "\n",
      "Pac-Man Arrangement (HIGHLIGHT OF THIS CARTRIDGE): The best arcade Pac-Man game yet! 5 worlds with nonstop munchin' fun!\n",
      "\n",
      "So I'm pretty sure all fans would get a kick out of this collection. With these titles, what can go wrong for you in the fun factor?\n",
      "------\n",
      "Excellente\n",
      "------\n",
      "The interface with the game is more difficult than the other game I have played in the series. Good graphics.\n",
      "------\n",
      "After seeing the movie industry time and time again come up with the worst batman's in history (I'm still debating if Val Kilmer or George Clooney take the price) and reading lots and lots of great comics and watching great animated series, finally a company comes along and rewards us fans with a marvelous dark knight game that truly puts you in Wayne's mind as the Batman. No, this is not the BAM, WHAM, KA-POW batman you saw David West in and it's not the weird new batman from Batman the Brave and the Bold cartoon and that is such a relief !!\n",
      "This is the TRUE Batman, the one Bob Kane had in his mind even in the late 30's, the one that has inspired great writings from comic book authors such as Jeph Loeb (The Long Halloween), Frank Miller (Year One) and Grant Morrison (Arkham Asylum). Taking most of the game heavily from the Arkham Asylum comic book, this game truly compels the player in a gritty, Gothic, depressing place that is the former house of the Arkham family. Some may think the mansion may be a bit small to create a game in seeing games as Fallout 3, GTA, or the Total War series yet the Arkham Mansion is now so much more than just a house and has been cleverly designed in the game with the help of Waynetech Industries. The single player campaign is a great story worthy of a comic book of it's own and let's not forget the greatest Joker since I read Alan Moore's The Killing Joke (and yes I'm including Heath Ledger here, he's just too darn psycho to be the ultimate joker, although I admit he stole the leading role in the movie), Mark Hamill is and will always be the greatest joker voice I've heard and of course Kevin Conroy does a marvelous job as the Batman. But it's the little things that this game excels at, whether is the Joker screaming madly while dancing before signaling Harley to lock Arkham, or Batman's knuckle crunching sounds when he breaks a goon's arm in two this game gives the player so much more than a mere punch and kick experience. Whether you're the action packed super hero that loves to beat everyone to a pulp or the stealthy guy that likes a kill without been seen you'll find your need in this game.\n",
      "The only bad parts that I may think of are the installation, it took me 4 tries to get the Games for Windows Live installed and even though I couldn't care less about online leaderboards I have to create an account otherwise I can't save my progress, that's just absurd but it's not the developers fault.\n",
      "The solo campaign is rather small compared to games nowadays even compared to some old ones with almost the same style like the Hitman series, yet the quality of the game story and the graphics makes this shortcomings well worth the hassle. But for this two shortcomings I had to deduct those two stars otherwise the game will be rated as flawless and nothing is flawless.\n",
      "Now if you really think the game lacks depth because you finished the campaign too soon, well try the Riddler challenges and you'll soon find yourself playing well over 50 hours just trying to figure out some of the puzzles. The trophies are really easy to find and most of them only require the adequate equipment in your arsenal, but the character bios and the arkham chronicles really require you to think and even delve into some of the comics to solve them and see what makes the batman villains tick. The question mark puzzles are more a matter of proper camera placing but are as engaging as the character ones nonetheless.\n",
      "Overall I do think this has become a classic of the gaming industry and a revolution on the way FPS games should be in the future. As far as the Batman Universe goes, it has been the first time I felt truly connected to Batman as a character, I won't spoil the story but to truly understand Bruce Wayne and why he created his alter ego the Scarecrow parts are really amazing.\n",
      "------\n",
      "Gift\n",
      "------\n",
      "He is still loving these games guys.... I couldn't have gone wrong!  YAY's\n",
      "------\n",
      "WOW! This game is one of my favorite Power Rangers games included the first Power Rangers, but not the crappy Sega, NDS, Gamecube, Game Boy Advance, and Game Boy games. My all time favorite ranger is Tommy aka White Ranger. I have been a fan of Power Rangers for over 20 years and I am still a fan now. I played this game when I was a child and it was fun, easy to play and a bit hard to beat. If you are a fan of Power Rangers, BUY THIS GAME.\n",
      "------\n",
      "Game disc was scratched but not too bad. Came quick. Great game and lots of fun.\n",
      "------\n",
      "I haven't had any issues with these cables and what I loved best is that it came with two cables.  I have not had any problems with connecting these cables to my PS3 controllers and charging.  They also work well for most external hard drives if you prefer to use them that way.  Much better than those short usb cables that often come with external hard drives.\n",
      "------\n",
      "I only played this game once or twice when I was a kid. I loved it but don't remember much of it. I bought it for my sister who was a fan of it too\n",
      "------\n",
      "excellent, very good service\n",
      "------\n",
      "Honestly the game didn't really had much direction. The game starts with just with map with multiple places where you choose to fight and the locker room where the characters can wear different outfits and that's it...There's no storyline at all and you have no idea who these characters are and there's no explanation on how to play the game.\n",
      "------\n",
      "I played the original Deus Ex back in the day but never played any of the follow ups. I bought Human Revolution because there was a great sale on it. I actually enjoyed the game quite a bit and it reminded me a lot of the original but just updated for today's hardware.\n",
      "------\n",
      "Didn't really play it\n",
      "------\n",
      "Makes things a lot easier when playing games on the computer. Much nicer.\n",
      "------\n",
      "But others might rate it higher, especially if they like games of this nature/type.  I felt the story was lackluster and the gameplay was awful, but hey, that's just my opinion.\n",
      "------\n",
      "Hi~ I just won this on twitter from \"fivehens\"<~~~~5 great ladies who became like a \"Mother Hen\" for all families.go to thier website-they offer a lot of reviews and information helpful to all,and much much more!...... I will return when this arrives ot write a \"true\" review-I just wanted everyone to know I won this and from who..Ive been wantin g1 of these for our grandchildren and wish came true  :) december 1st 2009\n",
      "------\n",
      "I love start wars, I was enjoying slashing, using the force and fighting others... lovely games I played it on all platforms. If you are a crazy start wars fan.. it's a must\n",
      "------\n",
      "if you get the game thinking its going to be like COD 4 you are going to be disapointed. if you get the game thinking its going to be like COD 3 your going to enjoy it a lot more. i don't get why people are making a big deal of course its not going to be the same as COD 4. the same people who were behind COD 3 made WAW. you you want another modern warfare wait for the 6th game to come out. the campaign was a lot of fun, i haven't had a chance to play a ton of multi player but its been what i exspected.\n",
      "\n",
      "all i gotta say is nazi zombies, if you don't know what it is just beat campaign. its worth it\n",
      "------\n",
      "five starts\n",
      "------\n",
      "This game is very unique in the Halo series. Taking elements of the previous games and casting an entirely new experience. There is little I could find that I do not enjoy about this game, but no game could ever be perfect. Still a great game. =)\n",
      "------\n",
      "I first played this game when it was released and i had never been presented with such a challenging game. I fell in love with it. The satisfaction you get from beating sc titles is rivaled by few games and worth the trial and error as you get used to the genre and play style. Once you become an sc pro it gets even better being as stealthy as possible and you feel like the worlds greatest bad ass as you sneak around undetected by guards and other enemies. If you haven't played an sc game then where better to start than the beginning? If you have played games in the series but not this one, go to the roots of splinter cell and see where it all started.\n",
      "------\n",
      "its kind of stubborn to fit into the nintendo i was afraid i was going to break it or the console but once i got it in it worked fine\n",
      "------\n",
      "Very great service and no complaints\n",
      "------\n",
      "If you're going into this game expecting another version of GTA, think again...though it's open world to a degree, it's nowhere near as open as say GTA IV, and there really isn't much in the way of side missions.  You can kind of explore the city and screw around a little bit between missions if you want to, but it really follows a more linear path and has a pretty set storyline to it...your a war hero returned home who, accompanied by a close friend, work their way into the Mob and work their way up the latter...lots of hand to hand combat and stealing stuff and shooting thugs.  Those are the primary 3 things you will be doing in your missions on this game.  While it's not as open, in depth, and big as GTA IV, this is still an enjoyable game, and if you're into gangster & crime games, you should still at least give this game a play through.  It really ain't too bad.\n",
      "------\n",
      "Characters\n",
      "------\n",
      "First of all this kills ESPN and all the others . This is a great game but the reason I gave it 4 stars instead of 5 is because of the franchise mode.  Its terrible . Unless you like to have owner mode . Id would be great without owner mode . But the graphics are awesome and everythang else! The Live play is awesome, log in, and boom you have a match, compared to espn where it takes 30minutes . great game!\n",
      "------\n",
      "I was REALLY excited to try these headphones out. This is my FIRST set of Gaming Headphones ever. I'm a little disheartened over a few things. Pro's and Cons below.\n",
      "\n",
      "Pro's\n",
      "-Seems to be of really good build quality for a plastic set of headphones. Strong plastic and cool looking design.\n",
      "-Comes with a stand\n",
      "-Completely wireless and compatible with PS4\n",
      "-7.1 Surround Sound\n",
      "-Nice crisp highs\n",
      "-Nice soft ear cushion and again high quality\n",
      "-Nice flexible mic that mutes depending on rotation/location.\n",
      "\n",
      "Con's\n",
      "-Earcups are just a tad small. I'd say I have a normal sized head/ears.\n",
      "-6/27 Update: Because the earcups are small on my head I do get soreness after about 30-45 minutes of gameplay. I either take off the headphones or move them around to provide relief for a bit.\n",
      "-Bass is a little on the weak side.\n",
      "-Mic doesn't seem to be detatchable\n",
      "-No bluetooth to connect to my phone\n",
      "-Directions explaining the volume controls on the headphones could be better detailed/clearer to understand. I had to e-mail Skullcandy to get a more detailed explanation of how it works and I'm still a bit confused. I've moved the little control on the side all around and eventually find a volume that I'm happy with, just wish I knew what the controls were actually changing/doing. It's a bit confusing...\n",
      "\n",
      "Neutral comments (things I'm not crazy about, but not all Skullcandy's fault or could get better over time).\n",
      "-Little tight fitting out of the box (this could get better as things get worn in). Tight fitting on my head and hurts my ears after about 30-45 minutes. But then again they are brand new. They might just need time to stretch and be broken in.\n",
      "-I hate the way these have to connect to both the optical and USB ports on the PS4. The optical is to transmit sound, and the usb is to transmit your voice/mic. So you NEED both unless you just want sound, at that point you can just use the optical. However the way the PS4 is designed with only two ports up front is ridiculous. You've got a cable hanging out the back and FRONT for these headphones (for any headphones probably). This is Sony's fault for such a horrible design with the PS4, NOT Skullcandy's fault. They are limited by the gaming consoles capabilities.\n",
      "\n",
      "Suggestions to Skullcandy\n",
      "- Create a charging contact at the top of the headphones and stand. That way you have wireless charging when not in use and hanging up! :)\n",
      "- Make the earcups a tad bit larger.\n",
      "- More detailed instructions would be nice\n",
      "- Go with 50mm drivers instead of 40mm for stronger bass.\n",
      "- Setup instructions for the PS4 including the PS4 settings to choose.\n",
      "\n",
      "Overall I'm pretty happy with these.\n",
      "\n",
      "TIP: In your audio settings on the PS4 set your Headphone Output to \"Chat Only\". This way the audio from the game and chat comes through the headphones, while sending just the game audio (no chat) to the TV. You can then use your TV remote to turn the volume up/down on the TV depending on your preference without affecting the Headphone volume.\n",
      "------\n",
      "The story is Perfect for a teenage girl I'm not a teenage girl\n",
      "------\n",
      "good\n",
      "------\n",
      "I have enjoyed this game. Easy learning curve. Provides battle training/moves. Yes I play the story lines too. Just a well thought out game to enjoy.\n",
      "------\n",
      "Hasn't broken down yet, but my others of the same brand have in the past. Simple controllers. The default that comes with the system.\n",
      "------\n",
      "This was a gift for my brother and while it came on time the box was damaged. Not too bad but it irked me to no end as it was something he wanted and I worked hard to help him get it for Christmas.\n",
      "\n",
      "Still the soundtrack mini has some great music and the art book looks great! Regardless its average rating for me do not bad but could have been better.\n",
      "\n",
      "Still be careful my brother was lucky to have gotten it in a decent condition but still glad the content inside was clean and unopened.\n",
      "------\n",
      "I'm a good way into the game now, so I figure I might as well write a brief review.\n",
      "\n",
      "First of all... if you are well versed on RPGs, then immediately set the difficulty on Hard.  It will not actually be 'hard' but there will be a slight bit of challenge in battle.  On 'normal' the battles are easy and excruciatingly boring.  Even on hard, the baddies will usually hit for 1-6 damage unless they use a powerful Persona ability.\n",
      "\n",
      "Okay.  First thing I noticed was that the music is amazing.  I'm talking about some of the best music in a handheld video game period.  The music is a more modern rock-centric style.  Lots of guitar, some distortion, but all really high quality and very catchy.  The music fits the setting very well.  There are also some fun little additions such as an actual classical piano piece (Debussy I believe) that plays in the Velvet room (it plays after the first piece ends).  Battle music is fast paced and works well without being too repetitive.\n",
      "\n",
      "Graphics are a pretty standard PS1 port style.  Though some areas have been tweaked, overall the flow is a lot smoother than PS1 and the camera can be rotated to eight points.  The characters are standard 2d PS1 style sprites (think Xenogears) and the field is isometric 3-d.  Battles take place on pretty boring and bland fields with some swirling, sinister looking 'clouds', but you're really focusing on the action I guess.\n",
      "\n",
      "Installing some of the data onto the memory card really speeds up loading times.  Especially the battle loading speeds.  Before installing you had to wait 3-8 seconds for battle to start once you saw the white flash.  With installation, the load is about 1-3 seconds.  Also speed in battle has improved.  There is no real slowdown when contacting demons or executing attacks like before installation.\n",
      "\n",
      "Battle is simple turn based, yet is fun.  Encounter rates are high-ish.  There is a FFX style turn indicator on the right so you can plan out your attack.  You can change your turn order, but often this pushes the demons' attacks higher on the turn order.  If you interrupt battle to re-input commands, then the turns start at that person's turn.  It's still turn based, but this allows some customization.  Especially useful for Fusion spells.\n",
      "\n",
      "The real fun is in making contact with demons in order to gain cards, pacts, money, items, or information.  You select a character or multiple characters and have them perform an action towards a demon.  My favorite would have to be Tatsuya's impression of a fighter jet.  I recommend NOT using a guide since it's fun to see demon's get angry and call you names, or become frightened and cower.  I even found that despite getting a demon to become 'eager' and give me valuable cards, I would later get that demon riled up in order to see their reaction.  But remember, if all you do is contact demons and gain cards and pacts, then you won't level up.  So you have to beat some up at some point!\n",
      "\n",
      "Summoning and using Persona's is a lot of fun, and this is where the game really shines.  Each character can use one Persona at a time.  You gain a level up bonus that is unique to each Persona.  To get new Persona's, you collect Tarot cards and trade them in at the Velvet room.  Using different Persona's gives access to different techniques as well as different Fusion spells (important spells combining 2+ Persona techniques to unleash a more devastating attack - very useful in those tough boss battles).  Often a character's regular attack is ineffective, so using Persona's is mandatory.  As you use Persona's they gain ranks and eventually gain more abilities.  You can trade in maxed out Persona's for items or cards when you are done and then summon a new version of that Persona (using your cards though) and get them to max out again.  A useful way to gain items or stats.\n",
      "\n",
      "The story is top notch and will keep you interested.  There is a TON of dialogue and lots of interesting character interaction.  The characters are all pretty interesting and you really get a feel for their personalities and even can sympathize with them.  The story doesn't seem really outlandish once you get into it.  Basically this Joker person is going around and making peoples' wishes come true.  This is through the use of rumor.  When a rumor gets going, it actually becomes true.  So there is a rumor that Seven High's school emblems are cursed... and then they actually do become cursed.  Some rumors help your party too.  Such as a rumor that you can spread about a Ramen shop selling weapons, or another shop being a mafia fencing operation, or a secret labyrinth on the second floor of a night club that houses some good items.  So spreading rumors can be beneficial, though often you have to make a choice as to which you spread (the shop sells good weapons at fair prices, sells amazing weapons that are expensive, sells average weapons for cheap, etc... then the shop will sell the selection indicated by which rumor was spread).\n",
      "\n",
      "So for a deep and complex game with a great story, interesting characters, and a wonderful remixed soundtrack, go with this!  I got the special edition with the soundtrack and I am happy I did.\n",
      "------\n",
      "I had played the original game from 2004, and so I felt obligated to try this one out.\n",
      "\n",
      "Firstly, maybe they thought this was a good idea, but now instead of cartoon characters of the presidential candidates, they're replaced with what can only generously be called caricature 'likeness' bobble-heads that look virtually nothing like who they're supposed to be.\n",
      "\n",
      "Off to go campaigning, you realize absolutely nothing has changed from the original's game engine.  The only new additions I found were the ability to build two new buildings in each state (forgot their names) to build up political capital and political experience, which can buy political agents or gain endorsements.  New issues have been added to reflect the 2008 season.\n",
      "\n",
      "Everything else is exactly the same.\n",
      "\n",
      "Once you've played this game or the 2004 edition once, you've pretty much played all you can play it.\n",
      "\n",
      "The issues are almost haphazardly aligned and shifted mid-game, to a point where you could make a TV ad in a state stating your opposition to high gas prices, only to a few weeks later start to lose awareness there because all of a sudden they SUPPORT high gas prices.  Not only is this clear insanity/stupidity since NO ONE supports high gas prices these days save for the occasional one or two out of ten people or more.\n",
      "\n",
      "In the end issues don't even matter; all your speeches and ads can be about supporting the economy or supporting the environment or some other PC universal BS issue that no one could possibly oppose without being declared legally insane by the public and you'll never need to become a \"divider\".\n",
      "\n",
      "Interviews consist basically of answering true to your base.  That is, if you're a Republican, you answer a question with the most insanely wrong answer that is most insensitive and stupid (such as sending military forces to the US-Mexico border, being gung-ho about terrorism, thinking gay marriage is \"icky\"), whereas if you're a Democrat, you answer a question with the most insanely wrong answer that is most hippie-liberal politically correct with peace love and flowers for all.  If you don't head primarily one way, you lose the audience and risk damage to your national awareness.\n",
      "\n",
      "The campaign starts off easily, and rather than gradually increase the difficulty, it instead keeps the gameplay AI exactly the same, with the only difficulty being that suddenly your state awareness is cut back, while your opponent's stays the same.\n",
      "\n",
      "This means that in one level in a state at the start of the game, you and your opponent can be 50-50 in the polls, and several levels later, at the very beginning, for no reason, you're down to 39%-50%\n",
      "\n",
      "And working to build up awareness percentages in the DOUBLE digits is almost completely impossible.  You're guaranteed to lose all the states unless you gain all the endorsements available and spend all your money on ads and campaign buildings.\n",
      "\n",
      "In that way, it thinks it is being more difficult with each level, when really it's only rigging the game against you, to a point where succeeding to the next level is impossible unless you cheat.\n",
      "\n",
      "Then there's bias:  Yes, even this game has bias.  As much as they may deny it or make it subtle, it's there: Republican issues and Republican endorsements are more effective on neutral states than Democratic issues and endorsements.\n",
      "\n",
      "For example: the Gun Lobby endorsement, a Republican endorsement, gives you a highly noticeable boost in almost every southern state from Florida to Texas.  The Women's Lobby endorsement, a Democratic endorsement, gives you almost no boost anywhere but California, which is already heavily Democratic to begin with.\n",
      "\n",
      "This would seemingly not be of such concern since Republicans can get Democratic endorsements and such, except for the fact that an opposite-party endorsement costs MORE political experience points.  Example: if you're a Democrat with 10 experience points, you can afford a Democratic endorsement for 10 points, but a Republican endorsement costs 13 points for you, whereas it costs 10 for your opponent, and Democratic endorsements cost 13 for him/her.\n",
      "------\n",
      "AWESOME GAME\n",
      "------\n",
      "If you love Diablo style action RPGs, do yourself a favor and pick this up now.  I enjoyed it more than D2 and D3!\n",
      "------\n",
      "This games is great! I admit that it takes a while to get use to controlling her.  Shipping was very fast!\n",
      "------\n",
      "This version is so much like the old nintendo version I always used to play as a kid. In my house we all have our own DS's so our favorite part of this game is mario vs. luigi where you can play against someone else on their DS. It is sooooo much fun!! I highly recommend this one. I just wish I could finally get through level 5. lol.\n",
      "------\n",
      "I remember I used to play N64 games as 9 year old during 2003 ago.\n",
      "------\n"
     ]
    }
   ],
   "source": [
    "#Sample of the review text\n",
    "for review in df['reviewText'].sample(50):\n",
    "    print(review)\n",
    "    print(\"------\")"
   ]
  },
  {
   "cell_type": "markdown",
   "metadata": {},
   "source": [
    "**Labeling Sentiment Analysis**"
   ]
  },
  {
   "cell_type": "code",
   "execution_count": 16,
   "metadata": {},
   "outputs": [],
   "source": [
    "#Labeling for sentiment analysis \n",
    "def sentiment_label(row):\n",
    "    if row['overall'] <= 2:\n",
    "        return 'negative'\n",
    "    elif row['overall'] == 3:\n",
    "        return 'neutral'\n",
    "    else:\n",
    "        return 'positive'\n",
    "\n",
    "df['sentiment'] = df.apply(sentiment_label, axis = 1)"
   ]
  },
  {
   "cell_type": "markdown",
   "metadata": {},
   "source": [
    "Since we have overall column from 1-5, we'll rate negative if below 2, neutral if 3 and positive if 4,5."
   ]
  },
  {
   "cell_type": "markdown",
   "metadata": {},
   "source": [
    "**Data Cleaning**"
   ]
  },
  {
   "cell_type": "code",
   "execution_count": 17,
   "metadata": {},
   "outputs": [],
   "source": [
    "#Creating function to clean text\n",
    "def clean_text(text):\n",
    "    #remove non-alphabetic words / characters and convert to lower case\n",
    "    text = re.sub(r'[^a-zA-Z]', ' ', text).lower()\n",
    "    #tokensize and remove stop words\n",
    "    tokens = word_tokenize(text)\n",
    "    tokens = [word for word in tokens if word not in stopwords.words('english')]\n",
    "    return ' '.join(tokens)#spacing in between tokens\n",
    "\n",
    "# applying clean_text function to review_text\n",
    "df['cleaned_reviewText'] = df['reviewText'].fillna('').apply(clean_text)"
   ]
  },
  {
   "cell_type": "code",
   "execution_count": 18,
   "metadata": {},
   "outputs": [
    {
     "name": "stdout",
     "output_type": "stream",
     "text": [
      "sentiment\n",
      "positive    393413\n",
      "negative     55018\n",
      "neutral      49146\n",
      "Name: count, dtype: int64\n"
     ]
    }
   ],
   "source": [
    "#Counting for sentiment columns.\n",
    "print(df['sentiment'].value_counts())\n"
   ]
  },
  {
   "cell_type": "markdown",
   "metadata": {},
   "source": [
    "Positive rating over others so we need to even it out for model to work well. We will undersample positive values to the minimum of the 3, neutral - 49,146."
   ]
  },
  {
   "cell_type": "markdown",
   "metadata": {},
   "source": [
    "Before undersampling, I have added a step for validation of process and model, TextBlob sentiment analysis for "
   ]
  },
  {
   "cell_type": "code",
   "execution_count": 19,
   "metadata": {},
   "outputs": [],
   "source": [
    "# Textblob Sentiment Analysis\n",
    "def analyze_sentiment_textblob(text):\n",
    "    testimonial = TextBlob(text)\n",
    "    polarity = testimonial.sentiment.polarity\n",
    "    if polarity > 0:\n",
    "        return 'positive'\n",
    "    elif polarity < 0:\n",
    "        return 'negative'\n",
    "    else:\n",
    "        return 'neutral'\n",
    "\n",
    "df['sentiment_textblob'] = df['reviewText'].apply(analyze_sentiment_textblob)\n"
   ]
  },
  {
   "cell_type": "code",
   "execution_count": 23,
   "metadata": {},
   "outputs": [
    {
     "name": "stdout",
     "output_type": "stream",
     "text": [
      "Total Reviews: 497577\n",
      "Agreement Count: 359195\n",
      "Disagreement Count: 138382\n",
      "Agreement Ratio: 0.72\n",
      "Disagreement Ratio: 0.28\n"
     ]
    }
   ],
   "source": [
    "# Calculate the total number of reviews\n",
    "total_reviews = len(df)\n",
    "\n",
    "# Calculate agreement and disagreement counts\n",
    "agreement_count = (df['sentiment'] == df['sentiment_textblob']).sum()\n",
    "disagreement_count = total_reviews - agreement_count\n",
    "\n",
    "# Calculate the ratio\n",
    "agreement_ratio = agreement_count / total_reviews\n",
    "disagreement_ratio = disagreement_count / total_reviews\n",
    "\n",
    "print(f\"Total Reviews: {total_reviews}\")\n",
    "print(f\"Agreement Count: {agreement_count}\")\n",
    "print(f\"Disagreement Count: {disagreement_count}\")\n",
    "print(f\"Agreement Ratio: {agreement_ratio:.2f}\")\n",
    "print(f\"Disagreement Ratio: {disagreement_ratio:.2f}\")"
   ]
  },
  {
   "cell_type": "code",
   "execution_count": 20,
   "metadata": {},
   "outputs": [
    {
     "name": "stdout",
     "output_type": "stream",
     "text": [
      "Comparison of Sentiments:\n",
      "   sentiment sentiment_textblob\n",
      "0   positive           positive\n",
      "1   positive           positive\n",
      "2    neutral           positive\n",
      "3   negative           negative\n",
      "4   positive           positive\n",
      "5   positive           positive\n",
      "6   negative           negative\n",
      "7   positive           negative\n",
      "8   positive           positive\n",
      "9   positive           positive\n",
      "10  positive           negative\n",
      "11  negative           negative\n",
      "12  positive           positive\n",
      "13  positive           positive\n",
      "14  positive           negative\n",
      "15  positive           positive\n",
      "16  positive           positive\n",
      "17  negative           positive\n",
      "18  negative           positive\n",
      "19  positive           positive\n"
     ]
    },
    {
     "data": {
      "image/png": "[encoded data removed]",
      "text/plain": [
       "<Figure size 640x480 with 1 Axes>"
      ]
     },
     "metadata": {},
     "output_type": "display_data"
    }
   ],
   "source": [
    "# Comparing Sentiment Analysis\n",
    "print(\"Comparison of Sentiments:\")\n",
    "print(df[['sentiment', 'sentiment_textblob']].head(20))\n",
    "\n",
    "# Visualizing Sentiment Analysis\n",
    "df['sentiment_textblob'].value_counts().plot(kind='bar', title='TextBlob Sentiment Analysis')\n",
    "plt.show()\n"
   ]
  },
  {
   "cell_type": "code",
   "execution_count": 24,
   "metadata": {},
   "outputs": [
    {
     "name": "stdout",
     "output_type": "stream",
     "text": [
      "Agreement Ratio: 0.72\n"
     ]
    }
   ],
   "source": [
    "# Calculate agreement and disagreement counts\n",
    "agreement_count = (df['sentiment'] == df['sentiment_textblob']).sum()\n",
    "total_reviews = len(df)\n",
    "\n",
    "# Calculate the agreement ratio\n",
    "agreement_ratio = agreement_count / total_reviews\n",
    "\n",
    "# Print the ratio\n",
    "print(f\"Agreement Ratio: {agreement_ratio:.2f}\")"
   ]
  },
  {
   "cell_type": "markdown",
   "metadata": {},
   "source": [
    "We conducted textblob and overall rating validation. Total review = 497,577, agreement count = 359,195, disagreement count = 138,382. We have a 72% agreement ratio between the two methods which is a relatively high level of consistency between two methods. In 72% of the cases, the method classifies as positive, neutral, or negative sentiment aligning with TextBlob's classification. In 28% of the reviews, there is a discrepancy between two methods. This could be due to various factors, such as difference in how each method interprets the sentiment conveyed in the text, overall = by human, and text blob by machine learning model.\n",
    "\n",
    "This agreement suggests the method of using the 'overall' rating as a basis for sentiment analysis is largely in line with the automated, NLP based apporach of Textblob. Disagreement also might be worth seeing as the limitations and differences in each method is there. It could provide insights into certain nuances or complexities in text sentiment that might not be captured uniformly by both methods.\n",
    "\n",
    "As with the high agreement ratio, I will continue with using the overall column as a basis for analysis. "
   ]
  },
  {
   "cell_type": "code",
   "execution_count": 21,
   "metadata": {},
   "outputs": [
    {
     "name": "stdout",
     "output_type": "stream",
     "text": [
      "49146\n"
     ]
    }
   ],
   "source": [
    "#Counting the minimum for sentiment column.\n",
    "minority_class_size = min(df['sentiment'].value_counts())\n",
    "\n",
    "print(minority_class_size)"
   ]
  },
  {
   "cell_type": "code",
   "execution_count": 29,
   "metadata": {},
   "outputs": [],
   "source": [
    "#Separating the values for sentiment\n",
    "df_negative = df[df['sentiment'] == 'negative']\n",
    "df_neutral = df[df['sentiment'] == 'neutral']\n",
    "df_positive = df[df['sentiment'] == 'positive']\n",
    "\n",
    "#Undersample positive number\n",
    "df_positive_undersampled = df_positive.sample(n=minority_class_size, random_state= 100)\n",
    "\n",
    "#Combining undersampled one with other classes\n",
    "balanced_df = pd.concat([df_negative, df_neutral, df_positive_undersampled])"
   ]
  },
  {
   "cell_type": "markdown",
   "metadata": {},
   "source": [
    "We undersampled  the positive values and have a balanced dataset."
   ]
  },
  {
   "cell_type": "code",
   "execution_count": 30,
   "metadata": {},
   "outputs": [],
   "source": [
    "balanced_df = balanced_df.sample(frac=1, random_state=150).reset_index(drop=True)\n"
   ]
  },
  {
   "cell_type": "code",
   "execution_count": 32,
   "metadata": {},
   "outputs": [
    {
     "name": "stdout",
     "output_type": "stream",
     "text": [
      "sentiment\n",
      "negative    55018\n",
      "neutral     49146\n",
      "positive    49146\n",
      "Name: count, dtype: int64\n"
     ]
    }
   ],
   "source": [
    "#Reverifying the count for sentiment\n",
    "print(balanced_df['sentiment'].value_counts())\n"
   ]
  },
  {
   "cell_type": "markdown",
   "metadata": {},
   "source": [
    "We will now move onto training the model."
   ]
  },
  {
   "cell_type": "markdown",
   "metadata": {},
   "source": [
    "**Training the model**"
   ]
  },
  {
   "cell_type": "code",
   "execution_count": 33,
   "metadata": {},
   "outputs": [],
   "source": [
    "#Test and train split - 8:2\n",
    "X_train, X_test, y_train, y_test = train_test_split(balanced_df['cleaned_reviewText'], balanced_df['sentiment'], test_size=0.2, random_state=42)\n"
   ]
  },
  {
   "cell_type": "markdown",
   "metadata": {},
   "source": [
    "Split the data into test and train on train: 80%, test: 20%"
   ]
  },
  {
   "cell_type": "code",
   "execution_count": 45,
   "metadata": {},
   "outputs": [],
   "source": [
    "#Combine features and labels into one dataFrame for training and test\n",
    "train_data = pd.DataFrame({'cleaned_reviewText': X_train, 'sentiment': y_train})\n",
    "test_data = pd.DataFrame({'cleaned_reviewText': X_test, 'sentiment': y_test})\n"
   ]
  },
  {
   "cell_type": "markdown",
   "metadata": {},
   "source": [
    "Using AutoML for the model - autogloun "
   ]
  },
  {
   "cell_type": "code",
   "execution_count": 43,
   "metadata": {
    "scrolled": true
   },
   "outputs": [
    {
     "name": "stderr",
     "output_type": "stream",
     "text": [
      "No path specified. Models will be saved in: \"AutogluonModels/ag-20231217_095451\"\n",
      "No presets specified! To achieve strong results with AutoGluon, it is recommended to use the available presets.\n",
      "\tRecommended Presets (For more details refer to https://auto.gluon.ai/stable/tutorials/tabular/tabular-essentials.html#presets):\n",
      "\tpresets='best_quality'   : Maximize accuracy. Default time_limit=3600.\n",
      "\tpresets='high_quality'   : Strong accuracy with fast inference speed. Default time_limit=3600.\n",
      "\tpresets='good_quality'   : Good accuracy with very fast inference speed. Default time_limit=3600.\n",
      "\tpresets='medium_quality' : Fast training time, ideal for initial prototyping.\n",
      "Beginning AutoGluon training ... Time limit = 3600s\n",
      "AutoGluon will save models to \"AutogluonModels/ag-20231217_095451\"\n",
      "=================== System Info ===================\n",
      "AutoGluon Version:  1.0.0\n",
      "Python Version:     3.11.5\n",
      "Operating System:   Darwin\n",
      "Platform Machine:   arm64\n",
      "Platform Version:   Darwin Kernel Version 23.1.0: Mon Oct  9 21:28:31 PDT 2023; root:xnu-10002.41.9~6/RELEASE_ARM64_T8112\n",
      "CPU Count:          8\n",
      "Memory Avail:       6.42 GB / 16.00 GB (40.1%)\n",
      "Disk Space Avail:   137.33 GB / 228.27 GB (60.2%)\n",
      "===================================================\n",
      "Train Data Rows:    122648\n",
      "Train Data Columns: 1\n",
      "Tuning Data Rows:    30662\n",
      "Tuning Data Columns: 1\n",
      "Label Column:       sentiment\n",
      "AutoGluon infers your prediction problem is: 'multiclass' (because dtype of label-column == object).\n",
      "\t3 unique label values:  ['neutral', 'negative', 'positive']\n",
      "\tIf 'multiclass' is not the correct problem_type, please manually specify the problem_type parameter during predictor init (You may specify problem_type as one of: ['binary', 'multiclass', 'regression'])\n",
      "Problem Type:       multiclass\n",
      "Preprocessing data ...\n",
      "Train Data Class Count: 3\n",
      "Using Feature Generators to preprocess the data ...\n",
      "Fitting AutoMLPipelineFeatureGenerator...\n",
      "\tAvailable Memory:                    6619.05 MB\n",
      "\tTrain Data (Original)  Memory Usage: 80.75 MB (1.2% of available memory)\n",
      "\tInferring data type of each feature based on column values. Set feature_metadata_in to manually specify special dtypes of the features.\n",
      "\tStage 1 Generators:\n",
      "\t\tFitting AsTypeFeatureGenerator...\n",
      "\tStage 2 Generators:\n",
      "\t\tFitting FillNaFeatureGenerator...\n",
      "\tStage 3 Generators:\n",
      "\t\tFitting CategoryFeatureGenerator...\n",
      "\t\t\tFitting CategoryMemoryMinimizeFeatureGenerator...\n",
      "\t\tFitting TextSpecialFeatureGenerator...\n",
      "\t\t\tFitting BinnedFeatureGenerator...\n",
      "\t\t\tFitting DropDuplicatesFeatureGenerator...\n",
      "\t\tFitting TextNgramFeatureGenerator...\n",
      "\t\t\tFitting CountVectorizer for text features: ['cleaned_reviewText']\n",
      "\t\t\tCountVectorizer fit with vocabulary size = 10000\n",
      "\t\tWarning: Due to memory constraints, ngram feature count is being reduced. Allocate more memory to maximize model quality.\n",
      "\t\tReducing Vectorizer vocab size from 10000 to 1436 to avoid OOM error\n",
      "\tStage 4 Generators:\n",
      "\t\tFitting DropUniqueFeatureGenerator...\n",
      "\tStage 5 Generators:\n",
      "\t\tFitting DropDuplicatesFeatureGenerator...\n",
      "\tTypes of features in original data (raw dtype, special dtypes):\n",
      "\t\t('object', ['text']) : 1 | ['cleaned_reviewText']\n",
      "\tTypes of features in processed data (raw dtype, special dtypes):\n",
      "\t\t('category', ['text_as_category'])  :    1 | ['cleaned_reviewText']\n",
      "\t\t('int', ['binned', 'text_special']) :    4 | ['cleaned_reviewText.char_count', 'cleaned_reviewText.word_count', 'cleaned_reviewText.lower_ratio', 'cleaned_reviewText.symbol_ratio. ']\n",
      "\t\t('int', ['text_ngram'])             : 1400 | ['__nlp__.abilities', '__nlp__.ability', '__nlp__.able', '__nlp__.absolutely', '__nlp__.ac', ...]\n",
      "\t78.4s = Fit runtime\n",
      "\t1 features in original data used to generate 1405 features in processed data.\n",
      "\tTrain Data (Processed) Memory Usage: 410.26 MB (5.3% of available memory)\n",
      "Data preprocessing and feature engineering runtime = 78.94s ...\n",
      "AutoGluon will gauge predictive performance using evaluation metric: 'accuracy'\n",
      "\tTo change this, specify the eval_metric parameter of Predictor()\n",
      "User-specified model hyperparameters to be fit:\n",
      "{\n",
      "\t'NN_TORCH': {},\n",
      "\t'GBM': [{'extra_trees': True, 'ag_args': {'name_suffix': 'XT'}}, {}, 'GBMLarge'],\n",
      "\t'CAT': {},\n",
      "\t'XGB': {},\n",
      "\t'FASTAI': {},\n",
      "\t'RF': [{'criterion': 'gini', 'ag_args': {'name_suffix': 'Gini', 'problem_types': ['binary', 'multiclass']}}, {'criterion': 'entropy', 'ag_args': {'name_suffix': 'Entr', 'problem_types': ['binary', 'multiclass']}}, {'criterion': 'squared_error', 'ag_args': {'name_suffix': 'MSE', 'problem_types': ['regression', 'quantile']}}],\n",
      "\t'XT': [{'criterion': 'gini', 'ag_args': {'name_suffix': 'Gini', 'problem_types': ['binary', 'multiclass']}}, {'criterion': 'entropy', 'ag_args': {'name_suffix': 'Entr', 'problem_types': ['binary', 'multiclass']}}, {'criterion': 'squared_error', 'ag_args': {'name_suffix': 'MSE', 'problem_types': ['regression', 'quantile']}}],\n",
      "\t'KNN': [{'weights': 'uniform', 'ag_args': {'name_suffix': 'Unif'}}, {'weights': 'distance', 'ag_args': {'name_suffix': 'Dist'}}],\n",
      "}\n",
      "Fitting 13 L1 models ...\n",
      "Fitting model: KNeighborsUnif ... Training model for up to 3521.06s of the 3521.05s of remaining time.\n",
      "\tWarning: Not enough memory to safely train model. Estimated to require 2.481 GB out of 7.619 GB available memory (32.569%)... (20.000% of avail memory is the max safe size)\n",
      "\tTo force training the model, specify the model hyperparameter \"ag.max_memory_usage_ratio\" to a larger value (currently 1.0, set to >=1.68 to avoid the error)\n",
      "\t\tTo set the same value for all models, do the following when calling predictor.fit: `predictor.fit(..., ag_args_fit={\"ag.max_memory_usage_ratio\": VALUE})`\n",
      "\t\tSetting \"ag.max_memory_usage_ratio\" to values above 1 may result in out-of-memory errors. You may consider using a machine with more memory as a safer alternative.\n",
      "\tNot enough memory to train KNeighborsUnif... Skipping this model.\n",
      "Fitting model: KNeighborsDist ... Training model for up to 3517.55s of the 3517.54s of remaining time.\n",
      "\tWarning: Not enough memory to safely train model. Estimated to require 2.481 GB out of 7.619 GB available memory (32.567%)... (20.000% of avail memory is the max safe size)\n",
      "\tTo force training the model, specify the model hyperparameter \"ag.max_memory_usage_ratio\" to a larger value (currently 1.0, set to >=1.68 to avoid the error)\n",
      "\t\tTo set the same value for all models, do the following when calling predictor.fit: `predictor.fit(..., ag_args_fit={\"ag.max_memory_usage_ratio\": VALUE})`\n",
      "\t\tSetting \"ag.max_memory_usage_ratio\" to values above 1 may result in out-of-memory errors. You may consider using a machine with more memory as a safer alternative.\n",
      "\tNot enough memory to train KNeighborsDist... Skipping this model.\n",
      "Fitting model: NeuralNetFastAI ... Training model for up to 3516.95s of the 3516.95s of remaining time.\n",
      "\t0.4348\t = Validation score   (accuracy)\n",
      "\t43.63s\t = Training   runtime\n",
      "\t0.08s\t = Validation runtime\n",
      "Fitting model: LightGBMXT ... Training model for up to 3473.2s of the 3473.2s of remaining time.\n"
     ]
    },
    {
     "name": "stdout",
     "output_type": "stream",
     "text": [
      "[1000]\tvalid_set's multi_error: 0.325713\n",
      "[2000]\tvalid_set's multi_error: 0.32069\n",
      "[3000]\tvalid_set's multi_error: 0.317885\n",
      "[4000]\tvalid_set's multi_error: 0.318635\n"
     ]
    },
    {
     "name": "stderr",
     "output_type": "stream",
     "text": [
      "\t0.6829\t = Validation score   (accuracy)\n",
      "\t82.38s\t = Training   runtime\n",
      "\t6.2s\t = Validation runtime\n",
      "Fitting model: LightGBM ... Training model for up to 3384.36s of the 3384.36s of remaining time.\n"
     ]
    },
    {
     "name": "stdout",
     "output_type": "stream",
     "text": [
      "[1000]\tvalid_set's multi_error: 0.318994\n",
      "[2000]\tvalid_set's multi_error: 0.314004\n",
      "[3000]\tvalid_set's multi_error: 0.312895\n",
      "[4000]\tvalid_set's multi_error: 0.312798\n",
      "[5000]\tvalid_set's multi_error: 0.310286\n",
      "[6000]\tvalid_set's multi_error: 0.30908\n",
      "[7000]\tvalid_set's multi_error: 0.308264\n",
      "[8000]\tvalid_set's multi_error: 0.309569\n",
      "[9000]\tvalid_set's multi_error: 0.308786\n"
     ]
    },
    {
     "name": "stderr",
     "output_type": "stream",
     "text": [
      "\t0.6921\t = Validation score   (accuracy)\n",
      "\t149.52s\t = Training   runtime\n",
      "\t10.92s\t = Validation runtime\n",
      "Fitting model: RandomForestGini ... Training model for up to 3223.33s of the 3223.32s of remaining time.\n",
      "\t0.6551\t = Validation score   (accuracy)\n",
      "\t102.04s\t = Training   runtime\n",
      "\t1.16s\t = Validation runtime\n",
      "Fitting model: RandomForestEntr ... Training model for up to 3119.68s of the 3119.67s of remaining time.\n",
      "\t0.6582\t = Validation score   (accuracy)\n",
      "\t96.49s\t = Training   runtime\n",
      "\t1.05s\t = Validation runtime\n",
      "Fitting model: CatBoost ... Training model for up to 3021.71s of the 3021.7s of remaining time.\n",
      "\tWarning: Exception caused CatBoost to fail during training (ImportError)... Skipping this model.\n",
      "\t\t\n",
      "Fitting model: ExtraTreesGini ... Training model for up to 3021.03s of the 3021.03s of remaining time.\n",
      "\t0.6626\t = Validation score   (accuracy)\n",
      "\t114.9s\t = Training   runtime\n",
      "\t1.16s\t = Validation runtime\n",
      "Fitting model: ExtraTreesEntr ... Training model for up to 2904.53s of the 2904.52s of remaining time.\n",
      "\t0.6639\t = Validation score   (accuracy)\n",
      "\t113.92s\t = Training   runtime\n",
      "\t1.19s\t = Validation runtime\n",
      "Fitting model: XGBoost ... Training model for up to 2788.98s of the 2788.98s of remaining time.\n",
      "\t0.6824\t = Validation score   (accuracy)\n",
      "\t3163.7s\t = Training   runtime\n",
      "\t0.91s\t = Validation runtime\n",
      "Fitting model: WeightedEnsemble_L2 ... Training model for up to 360.0s of the -375.7s of remaining time.\n",
      "\tEnsemble Weights: {'LightGBM': 0.393, 'ExtraTreesEntr': 0.202, 'ExtraTreesGini': 0.119, 'XGBoost': 0.107, 'RandomForestEntr': 0.083, 'LightGBMXT': 0.06, 'RandomForestGini': 0.024, 'NeuralNetFastAI': 0.012}\n",
      "\t0.6964\t = Validation score   (accuracy)\n",
      "\t1.63s\t = Training   runtime\n",
      "\t0.0s\t = Validation runtime\n",
      "AutoGluon training complete, total runtime = 3977.5s ... Best model: \"WeightedEnsemble_L2\"\n",
      "TabularPredictor saved. To load, use: predictor = TabularPredictor.load(\"AutogluonModels/ag-20231217_095451\")\n"
     ]
    },
    {
     "data": {
      "text/plain": [
       "<autogluon.tabular.predictor.predictor.TabularPredictor at 0x297e09ad0>"
      ]
     },
     "execution_count": 43,
     "metadata": {},
     "output_type": "execute_result"
    }
   ],
   "source": [
    "#Applying autogluon for prediction\n",
    "predictor = TabularPredictor(label='sentiment', eval_metric='accuracy')\n",
    "predictor.fit(train_data=train_data, tuning_data=tuning_data, time_limit=3600)"
   ]
  },
  {
   "cell_type": "markdown",
   "metadata": {},
   "source": [
    "The result suggests training data accuracy is 0.92 with validation score of 0.6921. The model used to train the dataset are light GBM, random forest, catboost, extrat tress, xgboost and a weighted ensemble model which suggests, L@ achieved the highest validation score of 0.6964. \n",
    "\n"
   ]
  },
  {
   "cell_type": "code",
   "execution_count": 47,
   "metadata": {},
   "outputs": [],
   "source": [
    "#Prediction on test data\n",
    "performance = predictor.evaluate(test_data)"
   ]
  },
  {
   "cell_type": "markdown",
   "metadata": {},
   "source": [
    "**Results**"
   ]
  },
  {
   "cell_type": "code",
   "execution_count": 48,
   "metadata": {},
   "outputs": [
    {
     "name": "stdout",
     "output_type": "stream",
     "text": [
      "{'accuracy': 0.6963668384319353, 'balanced_accuracy': 0.6947992617879332, 'mcc': 0.5443940057118994}\n"
     ]
    }
   ],
   "source": [
    "print(performance)"
   ]
  },
  {
   "cell_type": "code",
   "execution_count": 54,
   "metadata": {},
   "outputs": [
    {
     "name": "stdout",
     "output_type": "stream",
     "text": [
      "{'accuracy': 0.9227790098493249, 'balanced_accuracy': 0.921701327127947, 'mcc': 0.885098580392552}\n"
     ]
    }
   ],
   "source": [
    "train_performance = predictor.evaluate(train_data)\n",
    "print(train_performance)"
   ]
  },
  {
   "cell_type": "code",
   "execution_count": 49,
   "metadata": {},
   "outputs": [],
   "source": [
    "#Classification report prep \n",
    "#On training data\n",
    "y_train_pred = predictor.predict(train_data.drop(columns=['sentiment']))\n",
    "\n",
    "#On test data\n",
    "y_test_pred = predictor.predict(test_data.drop(columns=['sentiment']))\n"
   ]
  },
  {
   "cell_type": "code",
   "execution_count": 50,
   "metadata": {},
   "outputs": [
    {
     "name": "stdout",
     "output_type": "stream",
     "text": [
      "Classification Report for Training Data:\n",
      "               precision    recall  f1-score   support\n",
      "\n",
      "    negative       0.93      0.95      0.94     44149\n",
      "     neutral       0.96      0.86      0.91     39178\n",
      "    positive       0.89      0.96      0.92     39321\n",
      "\n",
      "    accuracy                           0.92    122648\n",
      "   macro avg       0.92      0.92      0.92    122648\n",
      "weighted avg       0.92      0.92      0.92    122648\n",
      "\n",
      "\n",
      "Classification Report for Test Data:\n",
      "               precision    recall  f1-score   support\n",
      "\n",
      "    negative       0.72      0.76      0.74     10869\n",
      "     neutral       0.63      0.56      0.60      9968\n",
      "    positive       0.73      0.76      0.75      9825\n",
      "\n",
      "    accuracy                           0.70     30662\n",
      "   macro avg       0.69      0.69      0.69     30662\n",
      "weighted avg       0.69      0.70      0.69     30662\n",
      "\n"
     ]
    }
   ],
   "source": [
    "#Classification report for training data\n",
    "train_report = classification_report(train_data['sentiment'], y_train_pred)\n",
    "print(\"Classification Report for training data:\\n\", train_report)\n",
    "\n",
    "#Classification report for test data\n",
    "test_report = classification_report(test_data['sentiment'], y_test_pred)\n",
    "print(\"\\nClassification Report for test data:\\n\", test_report)\n"
   ]
  },
  {
   "cell_type": "markdown",
   "metadata": {},
   "source": [
    "Classification report came out with an accuracy 0.92 with prediction and recall values high across all classes in training dataset. This indicates the model is effective at identifying correct sentiments and has a low rate of false positive and false negatives. High F1 Scores which balance precision and recall are also high which suggests a well-balanced performance between identifying relevant instances.\n",
    "\n",
    "Test data classification accuracy of 0.70 is a moderate value in precision and recall with balanced performance across classes. \n"
   ]
  },
  {
   "cell_type": "markdown",
   "metadata": {},
   "source": [
    "In summary, the generalization gap in performance between the training and test data suggests the overfitting issue where the training data may not capture the details in training data. The neutral class is slightly lower compared to negative and positive. This is a possibility due to inherent difficulties in distinguishing neutral sentiment in the data. "
   ]
  },
  {
   "cell_type": "markdown",
   "metadata": {},
   "source": []
  }
 ],
 "metadata": {
  "kernelspec": {
   "display_name": "Python 3 (ipykernel)",
   "language": "python",
   "name": "python3"
  },
  "language_info": {
   "codemirror_mode": {
    "name": "ipython",
    "version": 3
   },
   "file_extension": ".py",
   "mimetype": "text/x-python",
   "name": "python",
   "nbconvert_exporter": "python",
   "pygments_lexer": "ipython3",
   "version": "3.11.5"
  }
 },
 "nbformat": 4,
 "nbformat_minor": 4
}
